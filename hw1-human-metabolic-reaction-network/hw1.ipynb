{
 "cells": [
  {
   "cell_type": "markdown",
   "metadata": {},
   "source": [
    "CS519 Homework 1 - Eugene Seo (OSID: 932981978)"
   ]
  },
  {
   "cell_type": "markdown",
   "metadata": {},
   "source": [
    "Step 1. Read the metabolic network. "
   ]
  },
  {
   "cell_type": "code",
   "execution_count": 1,
   "metadata": {
    "collapsed": true
   },
   "outputs": [],
   "source": [
    "import pandas\n",
    "hs = pandas.read_csv(\"hsmetnet.txt\", sep=\"\\t\", names=[\"v_left\", \"v_right\"])"
   ]
  },
  {
   "cell_type": "markdown",
   "metadata": {},
   "source": [
    "Step 2. Create a directed graph."
   ]
  },
  {
   "cell_type": "code",
   "execution_count": 2,
   "metadata": {
    "collapsed": false
   },
   "outputs": [
    {
     "name": "stdout",
     "output_type": "stream",
     "text": [
      "IGRAPH DN-- 7879 19708 -- \n",
      "+ attr: name (v)\n"
     ]
    }
   ],
   "source": [
    "from igraph import *\n",
    "from igraph import summary\n",
    "meta_graph = Graph.TupleList(hs.values.tolist(), directed=True)\n",
    "summary(meta_graph)"
   ]
  },
  {
   "cell_type": "markdown",
   "metadata": {},
   "source": [
    "Step 3. Compute the number of distinct metabolites and the number of distinct reactions, and calculate the degree of each of the metabolite vertices."
   ]
  },
  {
   "cell_type": "code",
   "execution_count": 3,
   "metadata": {
    "collapsed": false
   },
   "outputs": [],
   "source": [
    "from collections import defaultdict\n",
    "metabolite_set = set()\n",
    "reaction_set = set()\n",
    "metabolite_degree = defaultdict(int)\n",
    "metabolite_idx = []\n",
    "for v in meta_graph.vs:\n",
    "\tif 'REACTION' in v['name']:\n",
    "\t\treaction_set.add(v)\n",
    "\t\tcontinue\n",
    "\telse:\n",
    "\t\tmetabolite_degree[v['name']] = v.degree()\n",
    "\t\tmetabolite_idx.append(v.index)\n",
    "\t\tmetabolite_set.add(v)"
   ]
  },
  {
   "cell_type": "markdown",
   "metadata": {},
   "source": [
    "Q. How many distinct metabolites are there in the graph? How many reactions? How many edges are there?"
   ]
  },
  {
   "cell_type": "code",
   "execution_count": 4,
   "metadata": {
    "collapsed": false
   },
   "outputs": [
    {
     "name": "stdout",
     "output_type": "stream",
     "text": [
      "A. number of distinct metabolities: 2340\n",
      "A. number of distinct reactions: 5539\n",
      "A. number of edges: 19708\n"
     ]
    }
   ],
   "source": [
    "print \"A. number of distinct metabolities:\", len(metabolite_set)\n",
    "print \"A. number of distinct reactions:\", len(reaction_set)\n",
    "print \"A. number of edges:\", hs.shape[0]"
   ]
  },
  {
   "cell_type": "markdown",
   "metadata": {},
   "source": [
    "Q. What are the top six metabolites in terms of vertex degree in the graph?"
   ]
  },
  {
   "cell_type": "code",
   "execution_count": 5,
   "metadata": {
    "collapsed": false
   },
   "outputs": [
    {
     "data": {
      "text/plain": [
       "[('ATP', 1202),\n",
       " ('ADP', 967),\n",
       " ('phosphate', 562),\n",
       " ('peptide', 456),\n",
       " ('[protein]-(L-serine/L-threonine)', 383),\n",
       " ('[protein] (L-serine/L-threonine) phosphate', 383)]"
      ]
     },
     "execution_count": 5,
     "metadata": {},
     "output_type": "execute_result"
    }
   ],
   "source": [
    "import numpy as np\n",
    "from operator import itemgetter\n",
    "sorted(metabolite_degree.items(), key=itemgetter(1), reverse=True)[0:6]"
   ]
  },
  {
   "cell_type": "markdown",
   "metadata": {},
   "source": [
    "Step 4. Plot the distribution of the degrees of these vertices, on log-log scale."
   ]
  },
  {
   "cell_type": "code",
   "execution_count": 6,
   "metadata": {
    "collapsed": false,
    "scrolled": false
   },
   "outputs": [
    {
     "data": {
      "image/png": "[encoded data removed]",
      "text/plain": [
       "<matplotlib.figure.Figure at 0x7feac88c3050>"
      ]
     },
     "metadata": {},
     "output_type": "display_data"
    }
   ],
   "source": [
    "import matplotlib.pyplot as plt\n",
    "degree, frac_metabolites = zip(*[(left, count) for left, _, count in meta_graph.degree_distribution(1, vertices=metabolite_idx).bins()])\n",
    "plt.loglog(degree, frac_metabolites)\n",
    "plt.xlabel(\"degree\")\n",
    "plt.ylabel(\"fraction of metabolites\")\n",
    "plt.show()"
   ]
  },
  {
   "cell_type": "markdown",
   "metadata": {},
   "source": [
    "Q. Is the degree distribution well-described by a power law?\n",
    "\n",
    "A. Yes, it is well-described by a power law because the degree distribution closely follows a straight line."
   ]
  },
  {
   "cell_type": "markdown",
   "metadata": {},
   "source": [
    "Step 5. Calculate the exponent α of the best-fit power-law."
   ]
  },
  {
   "cell_type": "code",
   "execution_count": 9,
   "metadata": {
    "collapsed": false,
    "scrolled": true
   },
   "outputs": [
    {
     "data": {
      "text/plain": [
       "1.7611613665992407"
      ]
     },
     "execution_count": 9,
     "metadata": {},
     "output_type": "execute_result"
    }
   ],
   "source": [
    "power_law_fit(frac_metabolites).alpha"
   ]
  },
  {
   "cell_type": "markdown",
   "metadata": {},
   "source": [
    "Q. Compare the α to the estimate of the power-law exponent reported by Jeong at al. Is it appropriate to compare the exponents?\n",
    "\n",
    "A. The α (=2.79) here is similar to the α (=2.2) reported by Jeong at al., as both follow the typical range between 2 to 3. Although the structure of the network is different in terms of reactions existence, the degree distribution of each metabolite will be similar because reactions can be regarded as bridges between metabolites. Therefore, I think it is appropriate to compare the exponents no matter if there are reactions or not in the networks."
   ]
  },
  {
   "cell_type": "markdown",
   "metadata": {},
   "source": [
    "Step 6. Calculate the shortest-path-length between all pairs of metabolites in the directed graph."
   ]
  },
  {
   "cell_type": "code",
   "execution_count": 10,
   "metadata": {
    "collapsed": false
   },
   "outputs": [
    {
     "name": "stdout",
     "output_type": "stream",
     "text": [
      "inf\n"
     ]
    }
   ],
   "source": [
    "shortest_paths = meta_graph.shortest_paths(source=metabolite_idx, target=metabolite_idx, mode=ALL)\n",
    "inf_idx = np.where(np.isinf(shortest_paths[0])==True)\n",
    "print shortest_paths[0][inf_idx[0][0]]"
   ]
  },
  {
   "cell_type": "markdown",
   "metadata": {},
   "source": [
    "Q. Why are some of these path lengths infinite?\n",
    "\n",
    "A. If a pair of metabolites are located in each separated component, their path becomes infinite."
   ]
  },
  {
   "cell_type": "markdown",
   "metadata": {},
   "source": [
    "Step 7. Calculate the average of the shortest-path-length between all pairs of metabolites in the giant (weakly connected) component of the network, by throwing away any shortest-paths distance value if it is infinite."
   ]
  },
  {
   "cell_type": "code",
   "execution_count": 11,
   "metadata": {
    "collapsed": false
   },
   "outputs": [
    {
     "data": {
      "text/plain": [
       "6.7959448471365356"
      ]
     },
     "execution_count": 11,
     "metadata": {},
     "output_type": "execute_result"
    }
   ],
   "source": [
    "metabolite_cluster = meta_graph.clusters(mode='weak')\n",
    "giant_cluster = metabolite_cluster.giant()\n",
    "giant_memnbers = []\n",
    "for v in giant_cluster.vs:\n",
    "\tif 'REACTION' in v['name']:\n",
    "\t\tcontinue\n",
    "\telse:\n",
    "\t\tgiant_memnbers.append(v.index)\n",
    "        \n",
    "short_path_giant = np.array(giant_cluster.shortest_paths(source=giant_memnbers, target=giant_memnbers, mode=ALL))\n",
    "short_path_giant = short_path_giant[np.isfinite(short_path_giant)]\n",
    "np.average(short_path_giant)"
   ]
  },
  {
   "cell_type": "markdown",
   "metadata": {},
   "source": [
    "Step 8. Calculate the maximum of the shortest-path-length between all pairs of metabolites in the giant (weakly connected) component of the network (= calculating the diameter of the giant component)"
   ]
  },
  {
   "cell_type": "code",
   "execution_count": 12,
   "metadata": {
    "collapsed": false
   },
   "outputs": [
    {
     "data": {
      "text/plain": [
       "18"
      ]
     },
     "execution_count": 12,
     "metadata": {},
     "output_type": "execute_result"
    }
   ],
   "source": [
    "np.amax(short_path_giant)"
   ]
  },
  {
   "cell_type": "markdown",
   "metadata": {},
   "source": [
    "Q. Why are the distances that we get, roughly twice those by Jeong?\n",
    "\n",
    "A. I think it's because all metabolites are connected throughout the reactions. Therefore, the diameter we get is twice larger than those by Jeong, including reaction paths between metabolites."
   ]
  },
  {
   "cell_type": "markdown",
   "metadata": {},
   "source": [
    "Step 9. Calculate the shortest-paths betweeness centrality for all metabolites in the network."
   ]
  },
  {
   "cell_type": "code",
   "execution_count": 13,
   "metadata": {
    "collapsed": true
   },
   "outputs": [],
   "source": [
    "betweeness = np.array(meta_graph.betweenness(vertices=metabolite_idx, directed=True))"
   ]
  },
  {
   "cell_type": "markdown",
   "metadata": {},
   "source": [
    "Step 10. Plot the scatter plot of betweenness centrality vs. vertex degree for all metabolites on log-log scale."
   ]
  },
  {
   "cell_type": "code",
   "execution_count": 14,
   "metadata": {
    "collapsed": false,
    "scrolled": true
   },
   "outputs": [
    {
     "data": {
      "image/png": "[encoded data removed]",
      "text/plain": [
       "<matplotlib.figure.Figure at 0x7feac889d410>"
      ]
     },
     "metadata": {},
     "output_type": "display_data"
    }
   ],
   "source": [
    "degree = np.array(meta_graph.degree(vertices=metabolite_idx))\n",
    "inds_keep = np.where(betweeness > 0)\n",
    "ax = plt.gca()\n",
    "ax.scatter(degree[inds_keep], betweeness[inds_keep])\n",
    "ax.loglog()\n",
    "plt.xlabel(\"degree\")\n",
    "plt.ylabel(\"betweeness centrality\")\n",
    "plt.show()"
   ]
  },
  {
   "cell_type": "markdown",
   "metadata": {},
   "source": [
    "Step 11. Among metabolites with degree k=2 , what metabolite has highest betweenness centrality in the network?"
   ]
  },
  {
   "cell_type": "code",
   "execution_count": 15,
   "metadata": {
    "collapsed": false,
    "scrolled": true
   },
   "outputs": [
    {
     "name": "stdout",
     "output_type": "stream",
     "text": [
      "L-arginino-succinate\n"
     ]
    }
   ],
   "source": [
    "metabolites_degree_two = np.where(degree == 2)[0]\n",
    "max_arg = np.argmax(betweeness[metabolites_degree_two])\n",
    "metabolites_idx_max_betweenness = metabolite_idx[metabolites_degree_two[max_arg]]\n",
    "print meta_graph.vs[metabolites_idx_max_betweenness][\"name\"]"
   ]
  },
  {
   "cell_type": "markdown",
   "metadata": {},
   "source": [
    "Q. What important metabolic cycle is the enzyme involved in? What is the known consequence of a mutation in this gene, from a health standpoint?\n",
    "\n",
    "A. L-arginino-succinate is catalyzed by Argininosuccinate synthase enzyme. This enzyme is involved in the urea cycle, and a mutation in this gene can cause liver or kidney cancers.  "
   ]
  },
  {
   "cell_type": "code",
   "execution_count": null,
   "metadata": {
    "collapsed": true
   },
   "outputs": [],
   "source": []
  }
 ],
 "metadata": {
  "celltoolbar": "Edit Metadata",
  "kernelspec": {
   "display_name": "Python 2",
   "language": "python",
   "name": "python2"
  },
  "language_info": {
   "codemirror_mode": {
    "name": "ipython",
    "version": 2
   },
   "file_extension": ".py",
   "mimetype": "text/x-python",
   "name": "python",
   "nbconvert_exporter": "python",
   "pygments_lexer": "ipython2",
   "version": "2.7.12"
  }
 },
 "nbformat": 4,
 "nbformat_minor": 1
}
