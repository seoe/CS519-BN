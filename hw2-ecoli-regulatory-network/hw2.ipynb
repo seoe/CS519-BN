{
 "cells": [
  {
   "cell_type": "markdown",
   "metadata": {},
   "source": [
    "CS519 Homework 2 - Eugene Seo (OSID: 932981978)"
   ]
  },
  {
   "cell_type": "markdown",
   "metadata": {},
   "source": [
    "Step 1. load in the E. coli operon-operon network (gene regulatory network) data in edge-list format; display the first six lines of data as a sanity check. Use pandas.read_csv and pandas.DataFrame.head."
   ]
  },
  {
   "cell_type": "code",
   "execution_count": 1,
   "metadata": {},
   "outputs": [
    {
     "data": {
      "text/html": [
       "<div>\n",
       "<style scoped>\n",
       "    .dataframe tbody tr th:only-of-type {\n",
       "        vertical-align: middle;\n",
       "    }\n",
       "\n",
       "    .dataframe tbody tr th {\n",
       "        vertical-align: top;\n",
       "    }\n",
       "\n",
       "    .dataframe thead th {\n",
       "        text-align: right;\n",
       "    }\n",
       "</style>\n",
       "<table border=\"1\" class=\"dataframe\">\n",
       "  <thead>\n",
       "    <tr style=\"text-align: right;\">\n",
       "      <th></th>\n",
       "      <th>source</th>\n",
       "      <th>target</th>\n",
       "    </tr>\n",
       "  </thead>\n",
       "  <tbody>\n",
       "    <tr>\n",
       "      <th>0</th>\n",
       "      <td>ADA</td>\n",
       "      <td>AIDB</td>\n",
       "    </tr>\n",
       "    <tr>\n",
       "      <th>1</th>\n",
       "      <td>ADIY</td>\n",
       "      <td>GADX</td>\n",
       "    </tr>\n",
       "    <tr>\n",
       "      <th>2</th>\n",
       "      <td>ALLR</td>\n",
       "      <td>ALLS</td>\n",
       "    </tr>\n",
       "    <tr>\n",
       "      <th>3</th>\n",
       "      <td>ARCA</td>\n",
       "      <td>BETI</td>\n",
       "    </tr>\n",
       "    <tr>\n",
       "      <th>4</th>\n",
       "      <td>ARCA</td>\n",
       "      <td>DPIA</td>\n",
       "    </tr>\n",
       "    <tr>\n",
       "      <th>5</th>\n",
       "      <td>ARCA</td>\n",
       "      <td>FNR</td>\n",
       "    </tr>\n",
       "  </tbody>\n",
       "</table>\n",
       "</div>"
      ],
      "text/plain": [
       "  source target\n",
       "0    ADA   AIDB\n",
       "1   ADIY   GADX\n",
       "2   ALLR   ALLS\n",
       "3   ARCA   BETI\n",
       "4   ARCA   DPIA\n",
       "5   ARCA    FNR"
      ]
     },
     "execution_count": 1,
     "metadata": {},
     "output_type": "execute_result"
    }
   ],
   "source": [
    "import pandas\n",
    "edge_list_ecoli = pandas.read_csv(\"shared/ecolitfnet.txt\", sep=\"\\t\", names=[\"source\", \"target\"])\n",
    "edge_list_ecoli.head(n=6)"
   ]
  },
  {
   "cell_type": "markdown",
   "metadata": {},
   "source": [
    "Step 2. Make an igraph directed graph from the network; print a graph summary as a sanity check."
   ]
  },
  {
   "cell_type": "code",
   "execution_count": 2,
   "metadata": {},
   "outputs": [
    {
     "name": "stdout",
     "output_type": "stream",
     "text": [
      "IGRAPH DN-- 133 261 -- \n",
      "+ attr: name (v)\n"
     ]
    }
   ],
   "source": [
    "from igraph import Graph\n",
    "from igraph import summary\n",
    "ecoli_graph = Graph.TupleList(edge_list_ecoli.values.tolist(), directed=True)\n",
    "summary(ecoli_graph)"
   ]
  },
  {
   "cell_type": "markdown",
   "metadata": {},
   "source": [
    "Q1. Which one of connected 3-vertex motifs is most fequent in the E. coli regularoty network?"
   ]
  },
  {
   "cell_type": "code",
   "execution_count": 3,
   "metadata": {},
   "outputs": [
    {
     "name": "stdout",
     "output_type": "stream",
     "text": [
      "6\n"
     ]
    }
   ],
   "source": [
    "import numpy as np\n",
    "three_vertex_motifs_counts = ecoli_graph.motifs_randesu(size=3)\n",
    "print np.nanargmax(three_vertex_motifs_counts)"
   ]
  },
  {
   "cell_type": "markdown",
   "metadata": {},
   "source": [
    "Q2. Which one of these motifs has a count of 47 in the regularoty network? (FFL)"
   ]
  },
  {
   "cell_type": "code",
   "execution_count": 4,
   "metadata": {},
   "outputs": [
    {
     "name": "stdout",
     "output_type": "stream",
     "text": [
      "7\n"
     ]
    }
   ],
   "source": [
    "print three_vertex_motifs_counts.index(47)"
   ]
  },
  {
   "cell_type": "markdown",
   "metadata": {},
   "source": [
    "Step 3. Compute the count of this FFL motif in the real network and random networks, and obtain the mean and standard deviation of the FFL counts for the random networks. Finally, obtain the Z-score for the count on the real network vs. the random networks. (Write a function motif_analysis that takes as its inputs motif_size, random_num, rewire_prob, and query motif name and its idx, and that prints out the counts of the motif on the real network, the mean and standard deviation of the motif on random networks, and the Z-score for the count on the real network vs. the random networks.)"
   ]
  },
  {
   "cell_type": "code",
   "execution_count": 5,
   "metadata": {
    "collapsed": true
   },
   "outputs": [],
   "source": [
    "import timeit\n",
    "def motif_analysis(motif_size=3, random_num=100, rewire_prob=1000, query='FFLs', idx=7):  \n",
    "    start_time = timeit.default_timer()\n",
    "    real_motif_counts = ecoli_graph.motifs_randesu(size=motif_size)\n",
    "    matrix_real_motif_counts = np.array(real_motif_counts)\n",
    "    print 'Counts of all {0}-vertex motifs in the graph:\\n{1}'.format(motif_size, real_motif_counts) \n",
    "    print '\\nNumber of {0} on the real network: {1}'.format(query, real_motif_counts[idx])\n",
    "\n",
    "       \n",
    "    random_motif_counts = []\n",
    "    copied_ecoli_graph = ecoli_graph.copy()\n",
    "    for i in range(random_num):\n",
    "        if (i % 1000 == 0):\n",
    "            print \"iteration:\", i\n",
    "        copied_ecoli_graph.rewire(n=rewire_prob)\n",
    "        random_motif_counts.append(copied_ecoli_graph.motifs_randesu(size=motif_size))\n",
    "        matrix_random_motif_counts = np.array(random_motif_counts)\n",
    "        mean_random_motif = np.mean(matrix_random_motif_counts, 0)\n",
    "        std_random_motif = np.std(matrix_random_motif_counts, 0)\n",
    "        z_scores = (matrix_real_motif_counts-mean_random_motif)/std_random_motif\n",
    "    \n",
    "    print 'Mean of {0} on random networks: {1}'.format(query, mean_random_motif[idx])\n",
    "    print 'Standard deviation of {0} on random networks: {1}'.format(query, std_random_motif[idx])\n",
    "    print 'Z-score for {0} count on the real network vs. the random networks: {1}'.format(query, z_scores[idx]) \n",
    "    \n",
    "    anlysis_elapsed = timeit.default_timer() - start_time\n",
    "    print \"\\nanlysis_elapsed:\", anlysis_elapsed\n",
    "    \n",
    "    return real_motif_counts[idx]/mean_random_motif[idx]"
   ]
  },
  {
   "cell_type": "markdown",
   "metadata": {},
   "source": [
    "Step 4. Analyze the FFL motif. (Three-vertex motif analysis)"
   ]
  },
  {
   "cell_type": "code",
   "execution_count": 6,
   "metadata": {
    "scrolled": true
   },
   "outputs": [
    {
     "name": "stdout",
     "output_type": "stream",
     "text": [
      "Counts of all 3-vertex motifs in the graph:\n",
      "[nan, nan, 275, nan, 125, 39, 1676, 47, 25, 68, 0, 0, 2, 10, 1, 1]\n",
      "\n",
      "Number of FFL on the real network: 47\n",
      "iteration: 0\n",
      "iteration: 1000\n",
      "iteration: 2000\n",
      "iteration: 3000\n",
      "iteration: 4000\n",
      "iteration: 5000\n",
      "iteration: 6000\n",
      "iteration: 7000\n",
      "iteration: 8000\n",
      "iteration: 9000\n",
      "Mean of FFL on random networks: 57.2361\n",
      "Standard deviation of FFL on random networks: 9.24795960145\n",
      "Z-score for FFL count on the real network vs. the random networks: -1.1068495583\n",
      "\n",
      "anlysis_elapsed: 261.829876184\n"
     ]
    }
   ],
   "source": [
    "FFL_ratio = motif_analysis(3, 10000, 1000, 'FFL', 7)"
   ]
  },
  {
   "cell_type": "markdown",
   "metadata": {},
   "source": [
    "Q3. Is this Z-score statistically significant? This Z-score is not statistically significant as it only shows about 1 standard deviation less than the mean.\n",
    "\n",
    "Q4. What is the ratio of the FFL count for the real network to the average FFL count for the random networks? How does ratio compare to the same ratio for the data in Table 1 in Shen-Orr et al., Nature Genetis, 2002?"
   ]
  },
  {
   "cell_type": "code",
   "execution_count": 7,
   "metadata": {},
   "outputs": [
    {
     "name": "stdout",
     "output_type": "stream",
     "text": [
      "Ratio of the FFL for the real network to random networks: 0.821160072052\n",
      "Ratio of the FFL in Shen-Orr et al., Nature Genetis, 2002: 5.79710144928\n"
     ]
    }
   ],
   "source": [
    "print \"Ratio of the FFL for the real network to random networks:\", FFL_ratio\n",
    "print \"Ratio of the FFL in Shen-Orr et al., Nature Genetis, 2002:\", 40/6.9"
   ]
  },
  {
   "cell_type": "markdown",
   "metadata": {},
   "source": [
    "Q5. Given the modest ratio of the FFL frequency in the real network vs. randomly shuffled network, should we entertain the possibility that the high frequency of FFLs in the real network could be a consequence of the degree distribution rather than evolution specifically “favoring” FFLs as a building block for gene regulatory networks? According to the difference of two comparing ratios, we might not be able to assert that the FFL motif is the favoring feature of the E. coli gene regulatory network. There could be a possibility to have a higher frequency of FFLs from other factors including degree distribution."
   ]
  },
  {
   "cell_type": "markdown",
   "metadata": {},
   "source": [
    "Step 5. Figure out the isomorphism class of the network shown in the assignment PDF."
   ]
  },
  {
   "cell_type": "code",
   "execution_count": 8,
   "metadata": {
    "scrolled": false
   },
   "outputs": [
    {
     "data": {
      "image/svg+xml": [
       "<?xml version=\"1.0\" encoding=\"UTF-8\"?>\n",
       "<svg xmlns=\"http://www.w3.org/2000/svg\" xmlns:xlink=\"http://www.w3.org/1999/xlink\" width=\"100pt\" height=\"100pt\" viewBox=\"0 0 100 100\" version=\"1.1\">\n",
       "<g id=\"surface2\">\n",
       "<rect x=\"0\" y=\"0\" width=\"100\" height=\"100\" style=\"fill:rgb(100%,100%,100%);fill-opacity:1;stroke:none;\"/>\n",
       "<path style=\"fill:none;stroke-width:1;stroke-linecap:butt;stroke-linejoin:miter;stroke:rgb(26.666667%,26.666667%,26.666667%);stroke-opacity:1;stroke-miterlimit:10;\" d=\"M 20 20 L 20 55.734375 \"/>\n",
       "<path style=\" stroke:none;fill-rule:nonzero;fill:rgb(26.666667%,26.666667%,26.666667%);fill-opacity:1;\" d=\"M 20 70 L 15.363281 55.734375 L 24.636719 55.734375 L 20 70 \"/>\n",
       "<path style=\"fill:none;stroke-width:1;stroke-linecap:butt;stroke-linejoin:miter;stroke:rgb(26.666667%,26.666667%,26.666667%);stroke-opacity:1;stroke-miterlimit:10;\" d=\"M 20 20 L 62.839844 62.839844 \"/>\n",
       "<path style=\" stroke:none;fill-rule:nonzero;fill:rgb(26.666667%,26.666667%,26.666667%);fill-opacity:1;\" d=\"M 72.929688 72.929688 L 59.5625 66.117188 L 66.117188 59.5625 L 72.929688 72.929688 \"/>\n",
       "<path style=\"fill:none;stroke-width:1;stroke-linecap:butt;stroke-linejoin:miter;stroke:rgb(26.666667%,26.666667%,26.666667%);stroke-opacity:1;stroke-miterlimit:10;\" d=\"M 80 20 L 37.160156 62.839844 \"/>\n",
       "<path style=\" stroke:none;fill-rule:nonzero;fill:rgb(26.666667%,26.666667%,26.666667%);fill-opacity:1;\" d=\"M 27.070312 72.929688 L 33.882812 59.5625 L 40.4375 66.117188 L 27.070312 72.929688 \"/>\n",
       "<path style=\"fill:none;stroke-width:1;stroke-linecap:butt;stroke-linejoin:miter;stroke:rgb(26.666667%,26.666667%,26.666667%);stroke-opacity:1;stroke-miterlimit:10;\" d=\"M 80 20 L 80 55.734375 \"/>\n",
       "<path style=\" stroke:none;fill-rule:nonzero;fill:rgb(26.666667%,26.666667%,26.666667%);fill-opacity:1;\" d=\"M 80 70 L 75.363281 55.734375 L 84.636719 55.734375 L 80 70 \"/>\n",
       "<path style=\"fill-rule:nonzero;fill:rgb(100%,75.294118%,79.607843%);fill-opacity:1;stroke-width:1;stroke-linecap:butt;stroke-linejoin:miter;stroke:rgb(0%,0%,0%);stroke-opacity:1;stroke-miterlimit:10;\" d=\"M 30 20 C 30 25.523438 25.523438 30 20 30 C 14.476562 30 10 25.523438 10 20 C 10 14.476562 14.476562 10 20 10 C 25.523438 10 30 14.476562 30 20 \"/>\n",
       "<path style=\"fill-rule:nonzero;fill:rgb(100%,75.294118%,79.607843%);fill-opacity:1;stroke-width:1;stroke-linecap:butt;stroke-linejoin:miter;stroke:rgb(0%,0%,0%);stroke-opacity:1;stroke-miterlimit:10;\" d=\"M 30 80 C 30 85.523438 25.523438 90 20 90 C 14.476562 90 10 85.523438 10 80 C 10 74.476562 14.476562 70 20 70 C 25.523438 70 30 74.476562 30 80 \"/>\n",
       "<path style=\"fill-rule:nonzero;fill:rgb(100%,75.294118%,79.607843%);fill-opacity:1;stroke-width:1;stroke-linecap:butt;stroke-linejoin:miter;stroke:rgb(0%,0%,0%);stroke-opacity:1;stroke-miterlimit:10;\" d=\"M 90 80 C 90 85.523438 85.523438 90 80 90 C 74.476562 90 70 85.523438 70 80 C 70 74.476562 74.476562 70 80 70 C 85.523438 70 90 74.476562 90 80 \"/>\n",
       "<path style=\"fill-rule:nonzero;fill:rgb(100%,75.294118%,79.607843%);fill-opacity:1;stroke-width:1;stroke-linecap:butt;stroke-linejoin:miter;stroke:rgb(0%,0%,0%);stroke-opacity:1;stroke-miterlimit:10;\" d=\"M 90 20 C 90 25.523438 85.523438 30 80 30 C 74.476562 30 70 25.523438 70 20 C 70 14.476562 74.476562 10 80 10 C 85.523438 10 90 14.476562 90 20 \"/>\n",
       "</g>\n",
       "</svg>\n"
      ],
      "text/plain": [
       "<igraph.drawing.Plot at 0x7f0efce13110>"
      ]
     },
     "execution_count": 8,
     "metadata": {},
     "output_type": "execute_result"
    }
   ],
   "source": [
    "from igraph import plot\n",
    "tuple_list = []\n",
    "tuple_list.append([1,3])\n",
    "tuple_list.append([1,4])\n",
    "tuple_list.append([2,3])\n",
    "tuple_list.append([2,4])\n",
    "v4_motif_graph = Graph.TupleList(tuple_list, directed=True)\n",
    "plot(v4_motif_graph, layout=\"sugiyama\", bbox=(100,100), vertex_color = \"pink\")"
   ]
  },
  {
   "cell_type": "code",
   "execution_count": 9,
   "metadata": {},
   "outputs": [
    {
     "name": "stdout",
     "output_type": "stream",
     "text": [
      "19\n"
     ]
    }
   ],
   "source": [
    "print v4_motif_graph.isoclass()"
   ]
  },
  {
   "cell_type": "markdown",
   "metadata": {},
   "source": [
    "Step 6. Analyze this 4-vertex DOR motif. (Four-vertex motif analysis)"
   ]
  },
  {
   "cell_type": "code",
   "execution_count": 10,
   "metadata": {
    "scrolled": true
   },
   "outputs": [
    {
     "name": "stdout",
     "output_type": "stream",
     "text": [
      "Counts of all 4-vertex motifs in the graph:\n",
      "[nan, nan, nan, 361, nan, nan, nan, 77, 59, nan, nan, nan, 252, 5050, 102, nan, 58, 26, 90, 297, 18, 30, nan, nan, 262, 44, 0, nan, nan, 70, 0, 58, 0, nan, nan, 24, 4, 12, 0, nan, 18, 1013, 22, 318, 4, 87, 0, 83, 8, 5, 0, 1, 12, 0, 6, 0, 31, 0, 0, 0, 0, 3, nan, 9, 0, 8, 1, 1, 1, 0, 0, 0, 0, 0, 0, 6, 16693, 695, 10, 372, 16, 25, 15, 3, 0, 6, 0, 0, 0, 0, 1, 2, 773, 0, 0, 0, 83, 6, 27, 0, 0, 0, 5, 331, 1, 11, 0, 0, 0, 0, 0, 0, 0, 0, 0, 2, 0, 0, 0, 2, nan, 3, 2, 14, 0, 0, 1, 0, 0, 0, 0, 0, 0, 0, 0, 0, 0, 0, 0, 1, 3, 0, 0, 0, 0, 0, 0, 0, 0, 0, 0, 0, 0, 0, 0, 0, 0, 1, 0, 0, 0, 0, 0, 0, 3, 0, 0, 0, 0, 1, 1, 0, 0, 0, 0, 0, 27, 0, 0, 0, 0, 0, 0, 0, 0, 0, 0, 0, 0, 0, 0, 0, 0, 0, 0, 0, 2, 0, 0, 0, 0, 0, 0, 0, 0, 0, 0, 0, 0, 0, 0, 0, 0, 0, 0, 0, 0, 0]\n",
      "\n",
      "Number of DOR on the real network: 297\n",
      "iteration: 0\n",
      "iteration: 1000\n",
      "iteration: 2000\n",
      "iteration: 3000\n",
      "iteration: 4000\n",
      "iteration: 5000\n",
      "iteration: 6000\n",
      "iteration: 7000\n",
      "iteration: 8000\n",
      "iteration: 9000\n",
      "Mean of DOR on random networks: 177.3063\n",
      "Standard deviation of DOR on random networks: 37.7812080314\n",
      "Z-score for DOR count on the real network vs. the random networks: 3.16807498322\n",
      "\n",
      "anlysis_elapsed: 1269.455091\n"
     ]
    }
   ],
   "source": [
    "DOR_ratio = motif_analysis(4, 10000, 1000, 'DOR', 19)"
   ]
  },
  {
   "cell_type": "markdown",
   "metadata": {},
   "source": [
    "Q6. Is this Z-score statistically significant? This Z-score is still not that statistically significant as it shows about 3 standard deviation greater than the mean. \n",
    "\n",
    "Q7. Compute the ratio of the DOR count in the real network to the average DOR count for the random networks. How does this ratio compare to the same ratio for the data in Table 1 from Shen-Orr et al.? Are they consistent?"
   ]
  },
  {
   "cell_type": "code",
   "execution_count": 23,
   "metadata": {},
   "outputs": [
    {
     "name": "stdout",
     "output_type": "stream",
     "text": [
      "Ratio of the DOR for the real network to random networks: 1.72815082044\n",
      "Ratio of the DOR in Shen-Orr et al., Nature Genetis, 2002: 3.56140350877\n"
     ]
    }
   ],
   "source": [
    "print \"Ratio of the DOR for the real network to random networks:\", DOR_ratio\n",
    "print \"Ratio of the DOR in Shen-Orr et al., Nature Genetis, 2002:\", 203/(57.0)"
   ]
  },
  {
   "cell_type": "markdown",
   "metadata": {},
   "source": [
    "Q8. Does this suggest that Shen-Orr's actual network randomization procedure is possibly not consistent with their description in the Methods section of their paper, i.e., that it may have had some kind of error? Both FFL and DOR's Z-scores and ratios are not consistent with Shen-Orr's results, and it may happen due to wrong random network generation and motif enumeration methods, according to the paper by Konagurthu and Lesk."
   ]
  },
  {
   "cell_type": "markdown",
   "metadata": {},
   "source": [
    "(Bonus Question) Write a program that generates a 20-vertex directed graph using the Barabasi-Albert model in igraph (with m = 2 edges per step), and then count the number of appearances of each type of connected three-vertex motif (note: there are five connected three-vertex digraph isomorphism classes that do not contain any double-arrows). Your program should print out the count of each of the five connected isomorphism classes."
   ]
  },
  {
   "cell_type": "markdown",
   "metadata": {},
   "source": [
    "Step 1. Generates a 20-vertex directed graph using the Barabasi-Albert model in igraph (with m = 2 edges)"
   ]
  },
  {
   "cell_type": "code",
   "execution_count": 15,
   "metadata": {},
   "outputs": [
    {
     "name": "stdout",
     "output_type": "stream",
     "text": [
      "IGRAPH D--- 20 37 -- \n"
     ]
    }
   ],
   "source": [
    "v_num = 20\n",
    "g = Graph.Barabasi(v_num, 2, directed=True)\n",
    "summary(g)"
   ]
  },
  {
   "cell_type": "markdown",
   "metadata": {},
   "source": [
    "Step 2. Plot the 20-vertex directed graph"
   ]
  },
  {
   "cell_type": "code",
   "execution_count": 16,
   "metadata": {},
   "outputs": [
    {
     "data": {
      "image/svg+xml": [
       "<?xml version=\"1.0\" encoding=\"UTF-8\"?>\n",
       "<svg xmlns=\"http://www.w3.org/2000/svg\" xmlns:xlink=\"http://www.w3.org/1999/xlink\" width=\"300pt\" height=\"300pt\" viewBox=\"0 0 300 300\" version=\"1.1\">\n",
       "<defs>\n",
       "<g>\n",
       "<symbol overflow=\"visible\" id=\"glyph0-0\">\n",
       "<path style=\"stroke:none;\" d=\"M 0.703125 2.46875 L 0.703125 -9.875 L 7.703125 -9.875 L 7.703125 2.46875 Z M 1.484375 1.703125 L 6.921875 1.703125 L 6.921875 -9.078125 L 1.484375 -9.078125 Z M 1.484375 1.703125 \"/>\n",
       "</symbol>\n",
       "<symbol overflow=\"visible\" id=\"glyph0-1\">\n",
       "<path style=\"stroke:none;\" d=\"M 4.453125 -9.296875 C 3.742188 -9.296875 3.207031 -8.945312 2.84375 -8.25 C 2.488281 -7.550781 2.3125 -6.5 2.3125 -5.09375 C 2.3125 -3.695312 2.488281 -2.644531 2.84375 -1.9375 C 3.207031 -1.238281 3.742188 -0.890625 4.453125 -0.890625 C 5.171875 -0.890625 5.707031 -1.238281 6.0625 -1.9375 C 6.414062 -2.644531 6.59375 -3.695312 6.59375 -5.09375 C 6.59375 -6.5 6.414062 -7.550781 6.0625 -8.25 C 5.707031 -8.945312 5.171875 -9.296875 4.453125 -9.296875 Z M 4.453125 -10.390625 C 5.597656 -10.390625 6.472656 -9.9375 7.078125 -9.03125 C 7.679688 -8.125 7.984375 -6.8125 7.984375 -5.09375 C 7.984375 -3.375 7.679688 -2.0625 7.078125 -1.15625 C 6.472656 -0.25 5.597656 0.203125 4.453125 0.203125 C 3.304688 0.203125 2.429688 -0.25 1.828125 -1.15625 C 1.222656 -2.0625 0.921875 -3.375 0.921875 -5.09375 C 0.921875 -6.8125 1.222656 -8.125 1.828125 -9.03125 C 2.429688 -9.9375 3.304688 -10.390625 4.453125 -10.390625 Z M 4.453125 -10.390625 \"/>\n",
       "</symbol>\n",
       "<symbol overflow=\"visible\" id=\"glyph0-2\">\n",
       "<path style=\"stroke:none;\" d=\"M 1.734375 -1.15625 L 4 -1.15625 L 4 -8.953125 L 1.53125 -8.453125 L 1.53125 -9.71875 L 3.984375 -10.203125 L 5.359375 -10.203125 L 5.359375 -1.15625 L 7.609375 -1.15625 L 7.609375 0 L 1.734375 0 Z M 1.734375 -1.15625 \"/>\n",
       "</symbol>\n",
       "<symbol overflow=\"visible\" id=\"glyph0-3\">\n",
       "<path style=\"stroke:none;\" d=\"M 2.6875 -1.15625 L 7.5 -1.15625 L 7.5 0 L 1.03125 0 L 1.03125 -1.15625 C 1.550781 -1.695312 2.265625 -2.425781 3.171875 -3.34375 C 4.078125 -4.257812 4.644531 -4.847656 4.875 -5.109375 C 5.3125 -5.609375 5.617188 -6.03125 5.796875 -6.375 C 5.972656 -6.71875 6.0625 -7.054688 6.0625 -7.390625 C 6.0625 -7.929688 5.867188 -8.375 5.484375 -8.71875 C 5.109375 -9.0625 4.613281 -9.234375 4 -9.234375 C 3.570312 -9.234375 3.117188 -9.15625 2.640625 -9 C 2.160156 -8.851562 1.644531 -8.625 1.09375 -8.3125 L 1.09375 -9.71875 C 1.644531 -9.9375 2.160156 -10.101562 2.640625 -10.21875 C 3.128906 -10.332031 3.578125 -10.390625 3.984375 -10.390625 C 5.035156 -10.390625 5.875 -10.125 6.5 -9.59375 C 7.132812 -9.070312 7.453125 -8.367188 7.453125 -7.484375 C 7.453125 -7.054688 7.375 -6.65625 7.21875 -6.28125 C 7.0625 -5.90625 6.773438 -5.460938 6.359375 -4.953125 C 6.242188 -4.828125 5.878906 -4.445312 5.265625 -3.8125 C 4.660156 -3.175781 3.800781 -2.289062 2.6875 -1.15625 Z M 2.6875 -1.15625 \"/>\n",
       "</symbol>\n",
       "<symbol overflow=\"visible\" id=\"glyph0-4\">\n",
       "<path style=\"stroke:none;\" d=\"M 5.6875 -5.5 C 6.34375 -5.363281 6.851562 -5.070312 7.21875 -4.625 C 7.59375 -4.175781 7.78125 -3.625 7.78125 -2.96875 C 7.78125 -1.957031 7.429688 -1.175781 6.734375 -0.625 C 6.046875 -0.0703125 5.066406 0.203125 3.796875 0.203125 C 3.367188 0.203125 2.925781 0.15625 2.46875 0.0625 C 2.019531 -0.0195312 1.550781 -0.144531 1.0625 -0.3125 L 1.0625 -1.640625 C 1.445312 -1.421875 1.867188 -1.253906 2.328125 -1.140625 C 2.785156 -1.023438 3.257812 -0.96875 3.75 -0.96875 C 4.613281 -0.96875 5.269531 -1.132812 5.71875 -1.46875 C 6.175781 -1.8125 6.40625 -2.3125 6.40625 -2.96875 C 6.40625 -3.570312 6.191406 -4.039062 5.765625 -4.375 C 5.347656 -4.71875 4.765625 -4.890625 4.015625 -4.890625 L 2.828125 -4.890625 L 2.828125 -6.015625 L 4.078125 -6.015625 C 4.753906 -6.015625 5.269531 -6.148438 5.625 -6.421875 C 5.988281 -6.703125 6.171875 -7.097656 6.171875 -7.609375 C 6.171875 -8.128906 5.984375 -8.53125 5.609375 -8.8125 C 5.242188 -9.09375 4.710938 -9.234375 4.015625 -9.234375 C 3.640625 -9.234375 3.234375 -9.191406 2.796875 -9.109375 C 2.367188 -9.023438 1.894531 -8.894531 1.375 -8.71875 L 1.375 -9.953125 C 1.894531 -10.097656 2.382812 -10.207031 2.84375 -10.28125 C 3.300781 -10.351562 3.734375 -10.390625 4.140625 -10.390625 C 5.191406 -10.390625 6.019531 -10.148438 6.625 -9.671875 C 7.238281 -9.203125 7.546875 -8.5625 7.546875 -7.75 C 7.546875 -7.175781 7.382812 -6.695312 7.0625 -6.3125 C 6.738281 -5.925781 6.28125 -5.65625 5.6875 -5.5 Z M 5.6875 -5.5 \"/>\n",
       "</symbol>\n",
       "<symbol overflow=\"visible\" id=\"glyph0-5\">\n",
       "<path style=\"stroke:none;\" d=\"M 5.296875 -9 L 1.8125 -3.5625 L 5.296875 -3.5625 Z M 4.921875 -10.203125 L 6.671875 -10.203125 L 6.671875 -3.5625 L 8.125 -3.5625 L 8.125 -2.40625 L 6.671875 -2.40625 L 6.671875 0 L 5.296875 0 L 5.296875 -2.40625 L 0.6875 -2.40625 L 0.6875 -3.734375 Z M 4.921875 -10.203125 \"/>\n",
       "</symbol>\n",
       "<symbol overflow=\"visible\" id=\"glyph0-6\">\n",
       "<path style=\"stroke:none;\" d=\"M 1.515625 -10.203125 L 6.9375 -10.203125 L 6.9375 -9.046875 L 2.78125 -9.046875 L 2.78125 -6.546875 C 2.976562 -6.609375 3.175781 -6.65625 3.375 -6.6875 C 3.570312 -6.726562 3.773438 -6.75 3.984375 -6.75 C 5.117188 -6.75 6.019531 -6.4375 6.6875 -5.8125 C 7.351562 -5.1875 7.6875 -4.34375 7.6875 -3.28125 C 7.6875 -2.175781 7.34375 -1.316406 6.65625 -0.703125 C 5.976562 -0.0976562 5.015625 0.203125 3.765625 0.203125 C 3.335938 0.203125 2.898438 0.164062 2.453125 0.09375 C 2.015625 0.0195312 1.554688 -0.0859375 1.078125 -0.234375 L 1.078125 -1.625 C 1.492188 -1.40625 1.921875 -1.238281 2.359375 -1.125 C 2.796875 -1.019531 3.253906 -0.96875 3.734375 -0.96875 C 4.523438 -0.96875 5.148438 -1.171875 5.609375 -1.578125 C 6.066406 -1.992188 6.296875 -2.5625 6.296875 -3.28125 C 6.296875 -3.988281 6.066406 -4.546875 5.609375 -4.953125 C 5.148438 -5.367188 4.523438 -5.578125 3.734375 -5.578125 C 3.367188 -5.578125 3 -5.535156 2.625 -5.453125 C 2.257812 -5.378906 1.890625 -5.253906 1.515625 -5.078125 Z M 1.515625 -10.203125 \"/>\n",
       "</symbol>\n",
       "<symbol overflow=\"visible\" id=\"glyph0-7\">\n",
       "<path style=\"stroke:none;\" d=\"M 4.625 -5.65625 C 4 -5.65625 3.503906 -5.441406 3.140625 -5.015625 C 2.785156 -4.585938 2.609375 -4.007812 2.609375 -3.28125 C 2.609375 -2.539062 2.785156 -1.957031 3.140625 -1.53125 C 3.503906 -1.101562 4 -0.890625 4.625 -0.890625 C 5.238281 -0.890625 5.726562 -1.101562 6.09375 -1.53125 C 6.457031 -1.957031 6.640625 -2.539062 6.640625 -3.28125 C 6.640625 -4.007812 6.457031 -4.585938 6.09375 -5.015625 C 5.726562 -5.441406 5.238281 -5.65625 4.625 -5.65625 Z M 7.359375 -9.984375 L 7.359375 -8.71875 C 7.015625 -8.882812 6.664062 -9.007812 6.3125 -9.09375 C 5.957031 -9.1875 5.609375 -9.234375 5.265625 -9.234375 C 4.347656 -9.234375 3.648438 -8.925781 3.171875 -8.3125 C 2.691406 -7.695312 2.421875 -6.765625 2.359375 -5.515625 C 2.617188 -5.910156 2.953125 -6.210938 3.359375 -6.421875 C 3.765625 -6.640625 4.210938 -6.75 4.703125 -6.75 C 5.722656 -6.75 6.53125 -6.4375 7.125 -5.8125 C 7.726562 -5.1875 8.03125 -4.34375 8.03125 -3.28125 C 8.03125 -2.226562 7.71875 -1.382812 7.09375 -0.75 C 6.476562 -0.113281 5.65625 0.203125 4.625 0.203125 C 3.4375 0.203125 2.53125 -0.25 1.90625 -1.15625 C 1.289062 -2.0625 0.984375 -3.375 0.984375 -5.09375 C 0.984375 -6.707031 1.363281 -7.992188 2.125 -8.953125 C 2.894531 -9.910156 3.921875 -10.390625 5.203125 -10.390625 C 5.554688 -10.390625 5.90625 -10.351562 6.25 -10.28125 C 6.601562 -10.21875 6.972656 -10.117188 7.359375 -9.984375 Z M 7.359375 -9.984375 \"/>\n",
       "</symbol>\n",
       "<symbol overflow=\"visible\" id=\"glyph0-8\">\n",
       "<path style=\"stroke:none;\" d=\"M 1.15625 -10.203125 L 7.71875 -10.203125 L 7.71875 -9.625 L 4 0 L 2.5625 0 L 6.046875 -9.046875 L 1.15625 -9.046875 Z M 1.15625 -10.203125 \"/>\n",
       "</symbol>\n",
       "<symbol overflow=\"visible\" id=\"glyph0-9\">\n",
       "<path style=\"stroke:none;\" d=\"M 4.453125 -4.84375 C 3.796875 -4.84375 3.28125 -4.664062 2.90625 -4.3125 C 2.53125 -3.96875 2.34375 -3.488281 2.34375 -2.875 C 2.34375 -2.257812 2.53125 -1.773438 2.90625 -1.421875 C 3.28125 -1.066406 3.796875 -0.890625 4.453125 -0.890625 C 5.109375 -0.890625 5.625 -1.066406 6 -1.421875 C 6.375 -1.773438 6.5625 -2.257812 6.5625 -2.875 C 6.5625 -3.488281 6.375 -3.96875 6 -4.3125 C 5.625 -4.664062 5.109375 -4.84375 4.453125 -4.84375 Z M 3.0625 -5.4375 C 2.476562 -5.582031 2.019531 -5.859375 1.6875 -6.265625 C 1.351562 -6.671875 1.1875 -7.164062 1.1875 -7.75 C 1.1875 -8.5625 1.476562 -9.203125 2.0625 -9.671875 C 2.644531 -10.148438 3.441406 -10.390625 4.453125 -10.390625 C 5.460938 -10.390625 6.257812 -10.148438 6.84375 -9.671875 C 7.425781 -9.203125 7.71875 -8.5625 7.71875 -7.75 C 7.71875 -7.164062 7.550781 -6.671875 7.21875 -6.265625 C 6.882812 -5.859375 6.425781 -5.582031 5.84375 -5.4375 C 6.507812 -5.28125 7.023438 -4.972656 7.390625 -4.515625 C 7.765625 -4.066406 7.953125 -3.519531 7.953125 -2.875 C 7.953125 -1.882812 7.648438 -1.125 7.046875 -0.59375 C 6.441406 -0.0625 5.578125 0.203125 4.453125 0.203125 C 3.328125 0.203125 2.460938 -0.0625 1.859375 -0.59375 C 1.253906 -1.125 0.953125 -1.882812 0.953125 -2.875 C 0.953125 -3.519531 1.140625 -4.066406 1.515625 -4.515625 C 1.890625 -4.972656 2.40625 -5.28125 3.0625 -5.4375 Z M 2.5625 -7.609375 C 2.5625 -7.085938 2.726562 -6.675781 3.0625 -6.375 C 3.394531 -6.082031 3.859375 -5.9375 4.453125 -5.9375 C 5.046875 -5.9375 5.507812 -6.082031 5.84375 -6.375 C 6.175781 -6.675781 6.34375 -7.085938 6.34375 -7.609375 C 6.34375 -8.140625 6.175781 -8.550781 5.84375 -8.84375 C 5.507812 -9.144531 5.046875 -9.296875 4.453125 -9.296875 C 3.859375 -9.296875 3.394531 -9.144531 3.0625 -8.84375 C 2.726562 -8.550781 2.5625 -8.140625 2.5625 -7.609375 Z M 2.5625 -7.609375 \"/>\n",
       "</symbol>\n",
       "<symbol overflow=\"visible\" id=\"glyph0-10\">\n",
       "<path style=\"stroke:none;\" d=\"M 1.53125 -0.21875 L 1.53125 -1.46875 C 1.882812 -1.300781 2.238281 -1.175781 2.59375 -1.09375 C 2.945312 -1.007812 3.296875 -0.96875 3.640625 -0.96875 C 4.546875 -0.96875 5.238281 -1.269531 5.71875 -1.875 C 6.207031 -2.488281 6.484375 -3.421875 6.546875 -4.671875 C 6.285156 -4.285156 5.953125 -3.984375 5.546875 -3.765625 C 5.140625 -3.554688 4.691406 -3.453125 4.203125 -3.453125 C 3.179688 -3.453125 2.367188 -3.757812 1.765625 -4.375 C 1.171875 -5 0.875 -5.847656 0.875 -6.921875 C 0.875 -7.960938 1.179688 -8.800781 1.796875 -9.4375 C 2.421875 -10.070312 3.25 -10.390625 4.28125 -10.390625 C 5.46875 -10.390625 6.367188 -9.9375 6.984375 -9.03125 C 7.609375 -8.125 7.921875 -6.8125 7.921875 -5.09375 C 7.921875 -3.488281 7.539062 -2.203125 6.78125 -1.234375 C 6.019531 -0.273438 4.992188 0.203125 3.703125 0.203125 C 3.347656 0.203125 2.992188 0.164062 2.640625 0.09375 C 2.285156 0.03125 1.914062 -0.0703125 1.53125 -0.21875 Z M 4.28125 -4.546875 C 4.90625 -4.546875 5.394531 -4.753906 5.75 -5.171875 C 6.113281 -5.597656 6.296875 -6.179688 6.296875 -6.921875 C 6.296875 -7.648438 6.113281 -8.226562 5.75 -8.65625 C 5.394531 -9.082031 4.90625 -9.296875 4.28125 -9.296875 C 3.664062 -9.296875 3.175781 -9.082031 2.8125 -8.65625 C 2.445312 -8.226562 2.265625 -7.648438 2.265625 -6.921875 C 2.265625 -6.179688 2.445312 -5.597656 2.8125 -5.171875 C 3.175781 -4.753906 3.664062 -4.546875 4.28125 -4.546875 Z M 4.28125 -4.546875 \"/>\n",
       "</symbol>\n",
       "</g>\n",
       "</defs>\n",
       "<g id=\"surface8\">\n",
       "<rect x=\"0\" y=\"0\" width=\"300\" height=\"300\" style=\"fill:rgb(100%,100%,100%);fill-opacity:1;stroke:none;\"/>\n",
       "<path style=\"fill:none;stroke-width:1;stroke-linecap:butt;stroke-linejoin:miter;stroke:rgb(26.666667%,26.666667%,26.666667%);stroke-opacity:1;stroke-miterlimit:10;\" d=\"M 108.855469 106.679688 L 147.847656 120.75 \"/>\n",
       "<path style=\" stroke:none;fill-rule:nonzero;fill:rgb(26.666667%,26.666667%,26.666667%);fill-opacity:1;\" d=\"M 161.269531 125.589844 L 146.277344 125.109375 L 149.421875 116.390625 L 161.269531 125.589844 \"/>\n",
       "<path style=\"fill:none;stroke-width:1;stroke-linecap:butt;stroke-linejoin:miter;stroke:rgb(26.666667%,26.666667%,26.666667%);stroke-opacity:1;stroke-miterlimit:10;\" d=\"M 152.84375 53.09375 L 165.125 105.363281 \"/>\n",
       "<path style=\" stroke:none;fill-rule:nonzero;fill:rgb(26.666667%,26.666667%,26.666667%);fill-opacity:1;\" d=\"M 168.386719 119.25 L 160.613281 106.421875 L 169.636719 104.304688 L 168.386719 119.25 \"/>\n",
       "<path style=\"fill:none;stroke-width:1;stroke-linecap:butt;stroke-linejoin:miter;stroke:rgb(26.666667%,26.666667%,26.666667%);stroke-opacity:1;stroke-miterlimit:10;\" d=\"M 152.84375 53.09375 L 124.25 87.921875 \"/>\n",
       "<path style=\" stroke:none;fill-rule:nonzero;fill:rgb(26.666667%,26.666667%,26.666667%);fill-opacity:1;\" d=\"M 115.199219 98.949219 L 120.667969 84.980469 L 127.835938 90.863281 L 115.199219 98.949219 \"/>\n",
       "<path style=\"fill:none;stroke-width:1;stroke-linecap:butt;stroke-linejoin:miter;stroke:rgb(26.666667%,26.666667%,26.666667%);stroke-opacity:1;stroke-miterlimit:10;\" d=\"M 199.378906 84.664062 L 183.863281 108.617188 \"/>\n",
       "<path style=\" stroke:none;fill-rule:nonzero;fill:rgb(26.666667%,26.666667%,26.666667%);fill-opacity:1;\" d=\"M 176.109375 120.59375 L 179.972656 106.097656 L 187.753906 111.136719 L 176.109375 120.59375 \"/>\n",
       "<path style=\"fill:none;stroke-width:1;stroke-linecap:butt;stroke-linejoin:miter;stroke:rgb(26.666667%,26.666667%,26.666667%);stroke-opacity:1;stroke-miterlimit:10;\" d=\"M 199.378906 84.664062 L 132.433594 100.945312 \"/>\n",
       "<path style=\" stroke:none;fill-rule:nonzero;fill:rgb(26.666667%,26.666667%,26.666667%);fill-opacity:1;\" d=\"M 118.570312 104.316406 L 131.339844 96.441406 L 133.527344 105.449219 L 118.570312 104.316406 \"/>\n",
       "<path style=\"fill:none;stroke-width:1;stroke-linecap:butt;stroke-linejoin:miter;stroke:rgb(26.666667%,26.666667%,26.666667%);stroke-opacity:1;stroke-miterlimit:10;\" d=\"M 147.054688 172.265625 L 121.066406 127.648438 \"/>\n",
       "<path style=\" stroke:none;fill-rule:nonzero;fill:rgb(26.666667%,26.666667%,26.666667%);fill-opacity:1;\" d=\"M 113.886719 115.320312 L 125.074219 125.3125 L 117.0625 129.980469 L 113.886719 115.320312 \"/>\n",
       "<path style=\"fill:none;stroke-width:1;stroke-linecap:butt;stroke-linejoin:miter;stroke:rgb(26.666667%,26.666667%,26.666667%);stroke-opacity:1;stroke-miterlimit:10;\" d=\"M 147.054688 172.265625 L 159.050781 150.285156 \"/>\n",
       "<path style=\" stroke:none;fill-rule:nonzero;fill:rgb(26.666667%,26.666667%,26.666667%);fill-opacity:1;\" d=\"M 165.882812 137.765625 L 163.117188 152.507812 L 154.980469 148.066406 L 165.882812 137.765625 \"/>\n",
       "<path style=\"fill:none;stroke-width:1;stroke-linecap:butt;stroke-linejoin:miter;stroke:rgb(26.666667%,26.666667%,26.666667%);stroke-opacity:1;stroke-miterlimit:10;\" d=\"M 98.703125 190.679688 L 105.945312 130.769531 \"/>\n",
       "<path style=\" stroke:none;fill-rule:nonzero;fill:rgb(26.666667%,26.666667%,26.666667%);fill-opacity:1;\" d=\"M 107.65625 116.605469 L 110.546875 131.324219 L 101.34375 130.210938 L 107.65625 116.605469 \"/>\n",
       "<path style=\"fill:none;stroke-width:1;stroke-linecap:butt;stroke-linejoin:miter;stroke:rgb(26.666667%,26.666667%,26.666667%);stroke-opacity:1;stroke-miterlimit:10;\" d=\"M 98.703125 190.679688 L 152.25 144.777344 \"/>\n",
       "<path style=\" stroke:none;fill-rule:nonzero;fill:rgb(26.666667%,26.666667%,26.666667%);fill-opacity:1;\" d=\"M 163.082031 135.492188 L 155.265625 148.296875 L 149.234375 141.257812 L 163.082031 135.492188 \"/>\n",
       "<path style=\"fill:none;stroke-width:1;stroke-linecap:butt;stroke-linejoin:miter;stroke:rgb(26.666667%,26.666667%,26.666667%);stroke-opacity:1;stroke-miterlimit:10;\" d=\"M 262.460938 110.8125 L 221.796875 93.957031 \"/>\n",
       "<path style=\" stroke:none;fill-rule:nonzero;fill:rgb(26.666667%,26.666667%,26.666667%);fill-opacity:1;\" d=\"M 208.617188 88.492188 L 223.570312 89.671875 L 220.019531 98.238281 L 208.617188 88.492188 \"/>\n",
       "<path style=\"fill:none;stroke-width:1;stroke-linecap:butt;stroke-linejoin:miter;stroke:rgb(26.666667%,26.666667%,26.666667%);stroke-opacity:1;stroke-miterlimit:10;\" d=\"M 262.460938 110.8125 L 194.476562 124.273438 \"/>\n",
       "<path style=\" stroke:none;fill-rule:nonzero;fill:rgb(26.666667%,26.666667%,26.666667%);fill-opacity:1;\" d=\"M 180.484375 127.042969 L 193.578125 119.726562 L 195.378906 128.820312 L 180.484375 127.042969 \"/>\n",
       "<path style=\"fill:none;stroke-width:1;stroke-linecap:butt;stroke-linejoin:miter;stroke:rgb(26.666667%,26.666667%,26.666667%);stroke-opacity:1;stroke-miterlimit:10;\" d=\"M 121.835938 39.007812 L 113.425781 82.847656 \"/>\n",
       "<path style=\" stroke:none;fill-rule:nonzero;fill:rgb(26.666667%,26.666667%,26.666667%);fill-opacity:1;\" d=\"M 110.738281 96.855469 L 108.875 81.972656 L 117.976562 83.71875 L 110.738281 96.855469 \"/>\n",
       "<path style=\"fill:none;stroke-width:1;stroke-linecap:butt;stroke-linejoin:miter;stroke:rgb(26.666667%,26.666667%,26.666667%);stroke-opacity:1;stroke-miterlimit:10;\" d=\"M 121.835938 39.007812 L 159.097656 107.660156 \"/>\n",
       "<path style=\" stroke:none;fill-rule:nonzero;fill:rgb(26.666667%,26.666667%,26.666667%);fill-opacity:1;\" d=\"M 165.902344 120.195312 L 155.023438 109.871094 L 163.171875 105.449219 L 165.902344 120.195312 \"/>\n",
       "<path style=\"fill:none;stroke-width:1;stroke-linecap:butt;stroke-linejoin:miter;stroke:rgb(26.666667%,26.666667%,26.666667%);stroke-opacity:1;stroke-miterlimit:10;\" d=\"M 187.335938 26.828125 L 145.691406 34.570312 \"/>\n",
       "<path style=\" stroke:none;fill-rule:nonzero;fill:rgb(26.666667%,26.666667%,26.666667%);fill-opacity:1;\" d=\"M 131.667969 37.179688 L 144.84375 30.015625 L 146.539062 39.128906 L 131.667969 37.179688 \"/>\n",
       "<path style=\"fill:none;stroke-width:1;stroke-linecap:butt;stroke-linejoin:miter;stroke:rgb(26.666667%,26.666667%,26.666667%);stroke-opacity:1;stroke-miterlimit:10;\" d=\"M 187.335938 26.828125 L 174.582031 105.035156 \"/>\n",
       "<path style=\" stroke:none;fill-rule:nonzero;fill:rgb(26.666667%,26.666667%,26.666667%);fill-opacity:1;\" d=\"M 172.285156 119.117188 L 170.003906 104.289062 L 179.15625 105.78125 L 172.285156 119.117188 \"/>\n",
       "<path style=\"fill:none;stroke-width:1;stroke-linecap:butt;stroke-linejoin:miter;stroke:rgb(26.666667%,26.666667%,26.666667%);stroke-opacity:1;stroke-miterlimit:10;\" d=\"M 250.5 152.691406 L 213.957031 104.0625 \"/>\n",
       "<path style=\" stroke:none;fill-rule:nonzero;fill:rgb(26.666667%,26.666667%,26.666667%);fill-opacity:1;\" d=\"M 205.386719 92.65625 L 217.664062 101.277344 L 210.25 106.847656 L 205.386719 92.65625 \"/>\n",
       "<path style=\"fill:none;stroke-width:1;stroke-linecap:butt;stroke-linejoin:miter;stroke:rgb(26.666667%,26.666667%,26.666667%);stroke-opacity:1;stroke-miterlimit:10;\" d=\"M 250.5 152.691406 L 193.9375 135.894531 \"/>\n",
       "<path style=\" stroke:none;fill-rule:nonzero;fill:rgb(26.666667%,26.666667%,26.666667%);fill-opacity:1;\" d=\"M 180.261719 131.832031 L 195.253906 131.449219 L 192.617188 140.335938 L 180.261719 131.832031 \"/>\n",
       "<path style=\"fill:none;stroke-width:1;stroke-linecap:butt;stroke-linejoin:miter;stroke:rgb(26.666667%,26.666667%,26.666667%);stroke-opacity:1;stroke-miterlimit:10;\" d=\"M 280 30.738281 L 267.652344 87.109375 \"/>\n",
       "<path style=\" stroke:none;fill-rule:nonzero;fill:rgb(26.666667%,26.666667%,26.666667%);fill-opacity:1;\" d=\"M 264.601562 101.042969 L 263.125 86.117188 L 272.179688 88.101562 L 264.601562 101.042969 \"/>\n",
       "<path style=\"fill:none;stroke-width:1;stroke-linecap:butt;stroke-linejoin:miter;stroke:rgb(26.666667%,26.666667%,26.666667%);stroke-opacity:1;stroke-miterlimit:10;\" d=\"M 280 30.738281 L 219.550781 71.171875 \"/>\n",
       "<path style=\" stroke:none;fill-rule:nonzero;fill:rgb(26.666667%,26.666667%,26.666667%);fill-opacity:1;\" d=\"M 207.691406 79.105469 L 216.972656 67.320312 L 222.125 75.027344 L 207.691406 79.105469 \"/>\n",
       "<path style=\"fill:none;stroke-width:1;stroke-linecap:butt;stroke-linejoin:miter;stroke:rgb(26.666667%,26.666667%,26.666667%);stroke-opacity:1;stroke-miterlimit:10;\" d=\"M 101.480469 85.6875 L 175.113281 84.917969 \"/>\n",
       "<path style=\" stroke:none;fill-rule:nonzero;fill:rgb(26.666667%,26.666667%,26.666667%);fill-opacity:1;\" d=\"M 189.378906 84.769531 L 175.164062 89.550781 L 175.066406 80.28125 L 189.378906 84.769531 \"/>\n",
       "<path style=\"fill:none;stroke-width:1;stroke-linecap:butt;stroke-linejoin:miter;stroke:rgb(26.666667%,26.666667%,26.666667%);stroke-opacity:1;stroke-miterlimit:10;\" d=\"M 101.480469 85.6875 L 150.105469 116.113281 \"/>\n",
       "<path style=\" stroke:none;fill-rule:nonzero;fill:rgb(26.666667%,26.666667%,26.666667%);fill-opacity:1;\" d=\"M 162.199219 123.679688 L 147.644531 120.042969 L 152.5625 112.183594 L 162.199219 123.679688 \"/>\n",
       "<path style=\"fill:none;stroke-width:1;stroke-linecap:butt;stroke-linejoin:miter;stroke:rgb(26.666667%,26.666667%,26.666667%);stroke-opacity:1;stroke-miterlimit:10;\" d=\"M 74.59375 148.75 L 146.90625 133.875 \"/>\n",
       "<path style=\" stroke:none;fill-rule:nonzero;fill:rgb(26.666667%,26.666667%,26.666667%);fill-opacity:1;\" d=\"M 160.878906 131 L 147.839844 138.414062 L 145.972656 129.335938 L 160.878906 131 \"/>\n",
       "<path style=\"fill:none;stroke-width:1;stroke-linecap:butt;stroke-linejoin:miter;stroke:rgb(26.666667%,26.666667%,26.666667%);stroke-opacity:1;stroke-miterlimit:10;\" d=\"M 74.59375 148.75 L 91.964844 108.007812 \"/>\n",
       "<path style=\" stroke:none;fill-rule:nonzero;fill:rgb(26.666667%,26.666667%,26.666667%);fill-opacity:1;\" d=\"M 97.558594 94.886719 L 96.226562 109.824219 L 87.699219 106.191406 L 97.558594 94.886719 \"/>\n",
       "<path style=\"fill:none;stroke-width:1;stroke-linecap:butt;stroke-linejoin:miter;stroke:rgb(26.666667%,26.666667%,26.666667%);stroke-opacity:1;stroke-miterlimit:10;\" d=\"M 249.953125 80.671875 L 267.488281 51.53125 \"/>\n",
       "<path style=\" stroke:none;fill-rule:nonzero;fill:rgb(26.666667%,26.666667%,26.666667%);fill-opacity:1;\" d=\"M 274.84375 39.308594 L 271.460938 53.921875 L 263.515625 49.140625 L 274.84375 39.308594 \"/>\n",
       "<path style=\"fill:none;stroke-width:1;stroke-linecap:butt;stroke-linejoin:miter;stroke:rgb(26.666667%,26.666667%,26.666667%);stroke-opacity:1;stroke-miterlimit:10;\" d=\"M 249.953125 80.671875 L 191.394531 116.359375 \"/>\n",
       "<path style=\" stroke:none;fill-rule:nonzero;fill:rgb(26.666667%,26.666667%,26.666667%);fill-opacity:1;\" d=\"M 179.214844 123.78125 L 188.984375 112.398438 L 193.808594 120.316406 L 179.214844 123.78125 \"/>\n",
       "<path style=\"fill:none;stroke-width:1;stroke-linecap:butt;stroke-linejoin:miter;stroke:rgb(26.666667%,26.666667%,26.666667%);stroke-opacity:1;stroke-miterlimit:10;\" d=\"M 221.648438 197.761719 L 170.015625 180.113281 \"/>\n",
       "<path style=\" stroke:none;fill-rule:nonzero;fill:rgb(26.666667%,26.666667%,26.666667%);fill-opacity:1;\" d=\"M 156.519531 175.5 L 171.515625 175.726562 L 168.519531 184.5 L 156.519531 175.5 \"/>\n",
       "<path style=\"fill:none;stroke-width:1;stroke-linecap:butt;stroke-linejoin:miter;stroke:rgb(26.666667%,26.666667%,26.666667%);stroke-opacity:1;stroke-miterlimit:10;\" d=\"M 221.648438 197.761719 L 185.125 148.480469 \"/>\n",
       "<path style=\" stroke:none;fill-rule:nonzero;fill:rgb(26.666667%,26.666667%,26.666667%);fill-opacity:1;\" d=\"M 176.628906 137.019531 L 188.847656 145.71875 L 181.398438 151.242188 L 176.628906 137.019531 \"/>\n",
       "<path style=\"fill:none;stroke-width:1;stroke-linecap:butt;stroke-linejoin:miter;stroke:rgb(26.666667%,26.666667%,26.666667%);stroke-opacity:1;stroke-miterlimit:10;\" d=\"M 184.730469 232.066406 L 173.953125 153.03125 \"/>\n",
       "<path style=\" stroke:none;fill-rule:nonzero;fill:rgb(26.666667%,26.666667%,26.666667%);fill-opacity:1;\" d=\"M 172.023438 138.894531 L 178.546875 152.402344 L 169.359375 153.65625 L 172.023438 138.894531 \"/>\n",
       "<path style=\"fill:none;stroke-width:1;stroke-linecap:butt;stroke-linejoin:miter;stroke:rgb(26.666667%,26.666667%,26.666667%);stroke-opacity:1;stroke-miterlimit:10;\" d=\"M 184.730469 232.066406 L 203.871094 214.277344 \"/>\n",
       "<path style=\" stroke:none;fill-rule:nonzero;fill:rgb(26.666667%,26.666667%,26.666667%);fill-opacity:1;\" d=\"M 214.324219 204.566406 L 207.027344 217.671875 L 200.71875 210.882812 L 214.324219 204.566406 \"/>\n",
       "<path style=\"fill:none;stroke-width:1;stroke-linecap:butt;stroke-linejoin:miter;stroke:rgb(26.666667%,26.666667%,26.666667%);stroke-opacity:1;stroke-miterlimit:10;\" d=\"M 56.765625 20 L 98.542969 32.203125 \"/>\n",
       "<path style=\" stroke:none;fill-rule:nonzero;fill:rgb(26.666667%,26.666667%,26.666667%);fill-opacity:1;\" d=\"M 112.234375 36.203125 L 97.242188 36.652344 L 99.839844 27.753906 L 112.234375 36.203125 \"/>\n",
       "<path style=\"fill:none;stroke-width:1;stroke-linecap:butt;stroke-linejoin:miter;stroke:rgb(26.666667%,26.666667%,26.666667%);stroke-opacity:1;stroke-miterlimit:10;\" d=\"M 56.765625 20 L 96.355469 85.878906 \"/>\n",
       "<path style=\" stroke:none;fill-rule:nonzero;fill:rgb(26.666667%,26.666667%,26.666667%);fill-opacity:1;\" d=\"M 103.703125 98.105469 L 92.382812 88.265625 L 100.328125 83.492188 L 103.703125 98.105469 \"/>\n",
       "<path style=\"fill:none;stroke-width:1;stroke-linecap:butt;stroke-linejoin:miter;stroke:rgb(26.666667%,26.666667%,26.666667%);stroke-opacity:1;stroke-miterlimit:10;\" d=\"M 108.238281 280 L 164.167969 244.949219 \"/>\n",
       "<path style=\" stroke:none;fill-rule:nonzero;fill:rgb(26.666667%,26.666667%,26.666667%);fill-opacity:1;\" d=\"M 176.257812 237.375 L 166.628906 248.878906 L 161.707031 241.023438 L 176.257812 237.375 \"/>\n",
       "<path style=\"fill:none;stroke-width:1;stroke-linecap:butt;stroke-linejoin:miter;stroke:rgb(26.666667%,26.666667%,26.666667%);stroke-opacity:1;stroke-miterlimit:10;\" d=\"M 108.238281 280 L 101.28125 214.808594 \"/>\n",
       "<path style=\" stroke:none;fill-rule:nonzero;fill:rgb(26.666667%,26.666667%,26.666667%);fill-opacity:1;\" d=\"M 99.765625 200.621094 L 105.886719 214.316406 L 96.671875 215.300781 L 99.765625 200.621094 \"/>\n",
       "<path style=\"fill:none;stroke-width:1;stroke-linecap:butt;stroke-linejoin:miter;stroke:rgb(26.666667%,26.666667%,26.666667%);stroke-opacity:1;stroke-miterlimit:10;\" d=\"M 151.398438 215.960938 L 120.582031 201.175781 \"/>\n",
       "<path style=\" stroke:none;fill-rule:nonzero;fill:rgb(26.666667%,26.666667%,26.666667%);fill-opacity:1;\" d=\"M 107.71875 195.003906 L 122.585938 196.996094 L 118.578125 205.355469 L 107.71875 195.003906 \"/>\n",
       "<path style=\"fill:none;stroke-width:1;stroke-linecap:butt;stroke-linejoin:miter;stroke:rgb(26.666667%,26.666667%,26.666667%);stroke-opacity:1;stroke-miterlimit:10;\" d=\"M 151.398438 215.960938 L 165.425781 152.675781 \"/>\n",
       "<path style=\" stroke:none;fill-rule:nonzero;fill:rgb(26.666667%,26.666667%,26.666667%);fill-opacity:1;\" d=\"M 168.511719 138.75 L 169.949219 153.679688 L 160.898438 151.675781 L 168.511719 138.75 \"/>\n",
       "<path style=\"fill:none;stroke-width:1;stroke-linecap:butt;stroke-linejoin:miter;stroke:rgb(26.666667%,26.666667%,26.666667%);stroke-opacity:1;stroke-miterlimit:10;\" d=\"M 20 92.976562 L 77.3125 87.847656 \"/>\n",
       "<path style=\" stroke:none;fill-rule:nonzero;fill:rgb(26.666667%,26.666667%,26.666667%);fill-opacity:1;\" d=\"M 91.519531 86.578125 L 77.726562 92.464844 L 76.898438 83.230469 L 91.519531 86.578125 \"/>\n",
       "<path style=\"fill:none;stroke-width:1;stroke-linecap:butt;stroke-linejoin:miter;stroke:rgb(26.666667%,26.666667%,26.666667%);stroke-opacity:1;stroke-miterlimit:10;\" d=\"M 20 92.976562 L 84.871094 102.980469 \"/>\n",
       "<path style=\" stroke:none;fill-rule:nonzero;fill:rgb(26.666667%,26.666667%,26.666667%);fill-opacity:1;\" d=\"M 98.972656 105.152344 L 84.167969 107.5625 L 85.578125 98.398438 L 98.972656 105.152344 \"/>\n",
       "<path style=\"fill-rule:nonzero;fill:rgb(100%,75.294118%,79.607843%);fill-opacity:1;stroke-width:1;stroke-linecap:butt;stroke-linejoin:miter;stroke:rgb(0%,0%,0%);stroke-opacity:1;stroke-miterlimit:10;\" d=\"M 180.675781 128.984375 C 180.675781 134.507812 176.195312 138.984375 170.675781 138.984375 C 165.152344 138.984375 160.675781 134.507812 160.675781 128.984375 C 160.675781 123.464844 165.152344 118.984375 170.675781 118.984375 C 176.195312 118.984375 180.675781 123.464844 180.675781 128.984375 \"/>\n",
       "<path style=\"fill-rule:nonzero;fill:rgb(100%,75.294118%,79.607843%);fill-opacity:1;stroke-width:1;stroke-linecap:butt;stroke-linejoin:miter;stroke:rgb(0%,0%,0%);stroke-opacity:1;stroke-miterlimit:10;\" d=\"M 118.855469 106.679688 C 118.855469 112.199219 114.378906 116.679688 108.855469 116.679688 C 103.332031 116.679688 98.855469 112.199219 98.855469 106.679688 C 98.855469 101.15625 103.332031 96.679688 108.855469 96.679688 C 114.378906 96.679688 118.855469 101.15625 118.855469 106.679688 \"/>\n",
       "<path style=\"fill-rule:nonzero;fill:rgb(100%,75.294118%,79.607843%);fill-opacity:1;stroke-width:1;stroke-linecap:butt;stroke-linejoin:miter;stroke:rgb(0%,0%,0%);stroke-opacity:1;stroke-miterlimit:10;\" d=\"M 162.84375 53.09375 C 162.84375 58.613281 158.367188 63.09375 152.84375 63.09375 C 147.320312 63.09375 142.84375 58.613281 142.84375 53.09375 C 142.84375 47.570312 147.320312 43.09375 152.84375 43.09375 C 158.367188 43.09375 162.84375 47.570312 162.84375 53.09375 \"/>\n",
       "<path style=\"fill-rule:nonzero;fill:rgb(100%,75.294118%,79.607843%);fill-opacity:1;stroke-width:1;stroke-linecap:butt;stroke-linejoin:miter;stroke:rgb(0%,0%,0%);stroke-opacity:1;stroke-miterlimit:10;\" d=\"M 209.378906 84.664062 C 209.378906 90.1875 204.902344 94.664062 199.378906 94.664062 C 193.855469 94.664062 189.378906 90.1875 189.378906 84.664062 C 189.378906 79.140625 193.855469 74.664062 199.378906 74.664062 C 204.902344 74.664062 209.378906 79.140625 209.378906 84.664062 \"/>\n",
       "<path style=\"fill-rule:nonzero;fill:rgb(100%,75.294118%,79.607843%);fill-opacity:1;stroke-width:1;stroke-linecap:butt;stroke-linejoin:miter;stroke:rgb(0%,0%,0%);stroke-opacity:1;stroke-miterlimit:10;\" d=\"M 157.054688 172.265625 C 157.054688 177.789062 152.578125 182.265625 147.054688 182.265625 C 141.53125 182.265625 137.054688 177.789062 137.054688 172.265625 C 137.054688 166.746094 141.53125 162.265625 147.054688 162.265625 C 152.578125 162.265625 157.054688 166.746094 157.054688 172.265625 \"/>\n",
       "<path style=\"fill-rule:nonzero;fill:rgb(100%,75.294118%,79.607843%);fill-opacity:1;stroke-width:1;stroke-linecap:butt;stroke-linejoin:miter;stroke:rgb(0%,0%,0%);stroke-opacity:1;stroke-miterlimit:10;\" d=\"M 108.703125 190.679688 C 108.703125 196.199219 104.226562 200.679688 98.703125 200.679688 C 93.179688 200.679688 88.703125 196.199219 88.703125 190.679688 C 88.703125 185.15625 93.179688 180.679688 98.703125 180.679688 C 104.226562 180.679688 108.703125 185.15625 108.703125 190.679688 \"/>\n",
       "<path style=\"fill-rule:nonzero;fill:rgb(100%,75.294118%,79.607843%);fill-opacity:1;stroke-width:1;stroke-linecap:butt;stroke-linejoin:miter;stroke:rgb(0%,0%,0%);stroke-opacity:1;stroke-miterlimit:10;\" d=\"M 272.460938 110.8125 C 272.460938 116.335938 267.984375 120.8125 262.460938 120.8125 C 256.9375 120.8125 252.460938 116.335938 252.460938 110.8125 C 252.460938 105.289062 256.9375 100.8125 262.460938 100.8125 C 267.984375 100.8125 272.460938 105.289062 272.460938 110.8125 \"/>\n",
       "<path style=\"fill-rule:nonzero;fill:rgb(100%,75.294118%,79.607843%);fill-opacity:1;stroke-width:1;stroke-linecap:butt;stroke-linejoin:miter;stroke:rgb(0%,0%,0%);stroke-opacity:1;stroke-miterlimit:10;\" d=\"M 131.835938 39.007812 C 131.835938 44.53125 127.359375 49.007812 121.835938 49.007812 C 116.3125 49.007812 111.835938 44.53125 111.835938 39.007812 C 111.835938 33.484375 116.3125 29.007812 121.835938 29.007812 C 127.359375 29.007812 131.835938 33.484375 131.835938 39.007812 \"/>\n",
       "<path style=\"fill-rule:nonzero;fill:rgb(100%,75.294118%,79.607843%);fill-opacity:1;stroke-width:1;stroke-linecap:butt;stroke-linejoin:miter;stroke:rgb(0%,0%,0%);stroke-opacity:1;stroke-miterlimit:10;\" d=\"M 197.335938 26.828125 C 197.335938 32.351562 192.859375 36.828125 187.335938 36.828125 C 181.8125 36.828125 177.335938 32.351562 177.335938 26.828125 C 177.335938 21.304688 181.8125 16.828125 187.335938 16.828125 C 192.859375 16.828125 197.335938 21.304688 197.335938 26.828125 \"/>\n",
       "<path style=\"fill-rule:nonzero;fill:rgb(100%,75.294118%,79.607843%);fill-opacity:1;stroke-width:1;stroke-linecap:butt;stroke-linejoin:miter;stroke:rgb(0%,0%,0%);stroke-opacity:1;stroke-miterlimit:10;\" d=\"M 260.5 152.691406 C 260.5 158.214844 256.019531 162.691406 250.5 162.691406 C 244.976562 162.691406 240.5 158.214844 240.5 152.691406 C 240.5 147.167969 244.976562 142.691406 250.5 142.691406 C 256.019531 142.691406 260.5 147.167969 260.5 152.691406 \"/>\n",
       "<path style=\"fill-rule:nonzero;fill:rgb(100%,75.294118%,79.607843%);fill-opacity:1;stroke-width:1;stroke-linecap:butt;stroke-linejoin:miter;stroke:rgb(0%,0%,0%);stroke-opacity:1;stroke-miterlimit:10;\" d=\"M 290 30.738281 C 290 36.261719 285.523438 40.738281 280 40.738281 C 274.476562 40.738281 270 36.261719 270 30.738281 C 270 25.21875 274.476562 20.738281 280 20.738281 C 285.523438 20.738281 290 25.21875 290 30.738281 \"/>\n",
       "<path style=\"fill-rule:nonzero;fill:rgb(100%,75.294118%,79.607843%);fill-opacity:1;stroke-width:1;stroke-linecap:butt;stroke-linejoin:miter;stroke:rgb(0%,0%,0%);stroke-opacity:1;stroke-miterlimit:10;\" d=\"M 111.480469 85.6875 C 111.480469 91.210938 107.003906 95.6875 101.480469 95.6875 C 95.957031 95.6875 91.480469 91.210938 91.480469 85.6875 C 91.480469 80.164062 95.957031 75.6875 101.480469 75.6875 C 107.003906 75.6875 111.480469 80.164062 111.480469 85.6875 \"/>\n",
       "<path style=\"fill-rule:nonzero;fill:rgb(100%,75.294118%,79.607843%);fill-opacity:1;stroke-width:1;stroke-linecap:butt;stroke-linejoin:miter;stroke:rgb(0%,0%,0%);stroke-opacity:1;stroke-miterlimit:10;\" d=\"M 84.59375 148.75 C 84.59375 154.269531 80.117188 158.75 74.59375 158.75 C 69.070312 158.75 64.59375 154.269531 64.59375 148.75 C 64.59375 143.226562 69.070312 138.75 74.59375 138.75 C 80.117188 138.75 84.59375 143.226562 84.59375 148.75 \"/>\n",
       "<path style=\"fill-rule:nonzero;fill:rgb(100%,75.294118%,79.607843%);fill-opacity:1;stroke-width:1;stroke-linecap:butt;stroke-linejoin:miter;stroke:rgb(0%,0%,0%);stroke-opacity:1;stroke-miterlimit:10;\" d=\"M 259.953125 80.671875 C 259.953125 86.195312 255.476562 90.671875 249.953125 90.671875 C 244.429688 90.671875 239.953125 86.195312 239.953125 80.671875 C 239.953125 75.148438 244.429688 70.671875 249.953125 70.671875 C 255.476562 70.671875 259.953125 75.148438 259.953125 80.671875 \"/>\n",
       "<path style=\"fill-rule:nonzero;fill:rgb(100%,75.294118%,79.607843%);fill-opacity:1;stroke-width:1;stroke-linecap:butt;stroke-linejoin:miter;stroke:rgb(0%,0%,0%);stroke-opacity:1;stroke-miterlimit:10;\" d=\"M 231.648438 197.761719 C 231.648438 203.285156 227.171875 207.761719 221.648438 207.761719 C 216.125 207.761719 211.648438 203.285156 211.648438 197.761719 C 211.648438 192.238281 216.125 187.761719 221.648438 187.761719 C 227.171875 187.761719 231.648438 192.238281 231.648438 197.761719 \"/>\n",
       "<path style=\"fill-rule:nonzero;fill:rgb(100%,75.294118%,79.607843%);fill-opacity:1;stroke-width:1;stroke-linecap:butt;stroke-linejoin:miter;stroke:rgb(0%,0%,0%);stroke-opacity:1;stroke-miterlimit:10;\" d=\"M 194.730469 232.066406 C 194.730469 237.585938 190.253906 242.066406 184.730469 242.066406 C 179.207031 242.066406 174.730469 237.585938 174.730469 232.066406 C 174.730469 226.542969 179.207031 222.066406 184.730469 222.066406 C 190.253906 222.066406 194.730469 226.542969 194.730469 232.066406 \"/>\n",
       "<path style=\"fill-rule:nonzero;fill:rgb(100%,75.294118%,79.607843%);fill-opacity:1;stroke-width:1;stroke-linecap:butt;stroke-linejoin:miter;stroke:rgb(0%,0%,0%);stroke-opacity:1;stroke-miterlimit:10;\" d=\"M 66.765625 20 C 66.765625 25.523438 62.285156 30 56.765625 30 C 51.242188 30 46.765625 25.523438 46.765625 20 C 46.765625 14.476562 51.242188 10 56.765625 10 C 62.285156 10 66.765625 14.476562 66.765625 20 \"/>\n",
       "<path style=\"fill-rule:nonzero;fill:rgb(100%,75.294118%,79.607843%);fill-opacity:1;stroke-width:1;stroke-linecap:butt;stroke-linejoin:miter;stroke:rgb(0%,0%,0%);stroke-opacity:1;stroke-miterlimit:10;\" d=\"M 118.238281 280 C 118.238281 285.523438 113.761719 290 108.238281 290 C 102.71875 290 98.238281 285.523438 98.238281 280 C 98.238281 274.476562 102.71875 270 108.238281 270 C 113.761719 270 118.238281 274.476562 118.238281 280 \"/>\n",
       "<path style=\"fill-rule:nonzero;fill:rgb(100%,75.294118%,79.607843%);fill-opacity:1;stroke-width:1;stroke-linecap:butt;stroke-linejoin:miter;stroke:rgb(0%,0%,0%);stroke-opacity:1;stroke-miterlimit:10;\" d=\"M 161.398438 215.960938 C 161.398438 221.484375 156.921875 225.960938 151.398438 225.960938 C 145.875 225.960938 141.398438 221.484375 141.398438 215.960938 C 141.398438 210.4375 145.875 205.960938 151.398438 205.960938 C 156.921875 205.960938 161.398438 210.4375 161.398438 215.960938 \"/>\n",
       "<path style=\"fill-rule:nonzero;fill:rgb(100%,75.294118%,79.607843%);fill-opacity:1;stroke-width:1;stroke-linecap:butt;stroke-linejoin:miter;stroke:rgb(0%,0%,0%);stroke-opacity:1;stroke-miterlimit:10;\" d=\"M 30 92.976562 C 30 98.5 25.523438 102.976562 20 102.976562 C 14.476562 102.976562 10 98.5 10 92.976562 C 10 87.453125 14.476562 82.976562 20 82.976562 C 25.523438 82.976562 30 87.453125 30 92.976562 \"/>\n",
       "<g style=\"fill:rgb(0%,0%,0%);fill-opacity:1;\">\n",
       "  <use xlink:href=\"#glyph0-1\" x=\"166.222656\" y=\"135.832031\"/>\n",
       "</g>\n",
       "<g style=\"fill:rgb(0%,0%,0%);fill-opacity:1;\">\n",
       "  <use xlink:href=\"#glyph0-2\" x=\"104.285156\" y=\"113.429688\"/>\n",
       "</g>\n",
       "<g style=\"fill:rgb(0%,0%,0%);fill-opacity:1;\">\n",
       "  <use xlink:href=\"#glyph0-3\" x=\"148.578125\" y=\"59.9375\"/>\n",
       "</g>\n",
       "<g style=\"fill:rgb(0%,0%,0%);fill-opacity:1;\">\n",
       "  <use xlink:href=\"#glyph0-4\" x=\"194.957031\" y=\"91.507812\"/>\n",
       "</g>\n",
       "<g style=\"fill:rgb(0%,0%,0%);fill-opacity:1;\">\n",
       "  <use xlink:href=\"#glyph0-5\" x=\"142.648438\" y=\"179.019531\"/>\n",
       "</g>\n",
       "<g style=\"fill:rgb(0%,0%,0%);fill-opacity:1;\">\n",
       "  <use xlink:href=\"#glyph0-6\" x=\"94.320312\" y=\"197.429688\"/>\n",
       "</g>\n",
       "<g style=\"fill:rgb(0%,0%,0%);fill-opacity:1;\">\n",
       "  <use xlink:href=\"#glyph0-7\" x=\"257.953125\" y=\"117.660156\"/>\n",
       "</g>\n",
       "<g style=\"fill:rgb(0%,0%,0%);fill-opacity:1;\">\n",
       "  <use xlink:href=\"#glyph0-8\" x=\"117.398438\" y=\"45.757812\"/>\n",
       "</g>\n",
       "<g style=\"fill:rgb(0%,0%,0%);fill-opacity:1;\">\n",
       "  <use xlink:href=\"#glyph0-9\" x=\"182.882812\" y=\"33.675781\"/>\n",
       "</g>\n",
       "<g style=\"fill:rgb(0%,0%,0%);fill-opacity:1;\">\n",
       "  <use xlink:href=\"#glyph0-10\" x=\"246.101562\" y=\"159.539062\"/>\n",
       "</g>\n",
       "<g style=\"fill:rgb(0%,0%,0%);fill-opacity:1;\">\n",
       "  <use xlink:href=\"#glyph0-2\" x=\"270.789062\" y=\"37.585938\"/>\n",
       "  <use xlink:href=\"#glyph0-1\" x=\"279.696289\" y=\"37.585938\"/>\n",
       "</g>\n",
       "<g style=\"fill:rgb(0%,0%,0%);fill-opacity:1;\">\n",
       "  <use xlink:href=\"#glyph0-2\" x=\"92.457031\" y=\"92.4375\"/>\n",
       "  <use xlink:href=\"#glyph0-2\" x=\"101.364258\" y=\"92.4375\"/>\n",
       "</g>\n",
       "<g style=\"fill:rgb(0%,0%,0%);fill-opacity:1;\">\n",
       "  <use xlink:href=\"#glyph0-2\" x=\"65.625\" y=\"155.59375\"/>\n",
       "  <use xlink:href=\"#glyph0-3\" x=\"74.532227\" y=\"155.59375\"/>\n",
       "</g>\n",
       "<g style=\"fill:rgb(0%,0%,0%);fill-opacity:1;\">\n",
       "  <use xlink:href=\"#glyph0-2\" x=\"240.84375\" y=\"87.519531\"/>\n",
       "  <use xlink:href=\"#glyph0-4\" x=\"249.750977\" y=\"87.519531\"/>\n",
       "</g>\n",
       "<g style=\"fill:rgb(0%,0%,0%);fill-opacity:1;\">\n",
       "  <use xlink:href=\"#glyph0-2\" x=\"212.367188\" y=\"204.511719\"/>\n",
       "  <use xlink:href=\"#glyph0-5\" x=\"221.274414\" y=\"204.511719\"/>\n",
       "</g>\n",
       "<g style=\"fill:rgb(0%,0%,0%);fill-opacity:1;\">\n",
       "  <use xlink:href=\"#glyph0-2\" x=\"175.667969\" y=\"238.816406\"/>\n",
       "  <use xlink:href=\"#glyph0-6\" x=\"184.575195\" y=\"238.816406\"/>\n",
       "</g>\n",
       "<g style=\"fill:rgb(0%,0%,0%);fill-opacity:1;\">\n",
       "  <use xlink:href=\"#glyph0-2\" x=\"47.527344\" y=\"26.847656\"/>\n",
       "  <use xlink:href=\"#glyph0-7\" x=\"56.43457\" y=\"26.847656\"/>\n",
       "</g>\n",
       "<g style=\"fill:rgb(0%,0%,0%);fill-opacity:1;\">\n",
       "  <use xlink:href=\"#glyph0-2\" x=\"99.160156\" y=\"286.753906\"/>\n",
       "  <use xlink:href=\"#glyph0-8\" x=\"108.067383\" y=\"286.753906\"/>\n",
       "</g>\n",
       "<g style=\"fill:rgb(0%,0%,0%);fill-opacity:1;\">\n",
       "  <use xlink:href=\"#glyph0-2\" x=\"142.203125\" y=\"222.808594\"/>\n",
       "  <use xlink:href=\"#glyph0-9\" x=\"151.110352\" y=\"222.808594\"/>\n",
       "</g>\n",
       "<g style=\"fill:rgb(0%,0%,0%);fill-opacity:1;\">\n",
       "  <use xlink:href=\"#glyph0-2\" x=\"10.820312\" y=\"99.824219\"/>\n",
       "  <use xlink:href=\"#glyph0-10\" x=\"19.727539\" y=\"99.824219\"/>\n",
       "</g>\n",
       "</g>\n",
       "</svg>\n"
      ],
      "text/plain": [
       "<igraph.drawing.Plot at 0x7f7165d64fd0>"
      ]
     },
     "execution_count": 16,
     "metadata": {},
     "output_type": "execute_result"
    }
   ],
   "source": [
    "i = 0\n",
    "for v in g.vs:\n",
    "\tv[\"label\"] = i\n",
    "\ti = i + 1\n",
    "plot(g, layout = g.layout(\"kk\"), vertex_color = \"pink\", bbox = (300, 300))"
   ]
  },
  {
   "cell_type": "markdown",
   "metadata": {},
   "source": [
    "Step 3. Store each classe's indegree and outdegree in one list to distinguish motifs"
   ]
  },
  {
   "cell_type": "code",
   "execution_count": 17,
   "metadata": {},
   "outputs": [],
   "source": [
    "from collections import defaultdict\n",
    "class_dic = defaultdict(int)\n",
    "class2  = [2,0,0,0,1,1] # [indegree, outdegree] of 3 vertices motifs\n",
    "class4  = [1,1,0,0,1,1]\n",
    "class6  = [1,1,0,0,0,2]\n",
    "class7  = [2,1,0,0,1,2]\n",
    "class11 = [1,1,1,1,1,1]"
   ]
  },
  {
   "cell_type": "markdown",
   "metadata": {},
   "source": [
    "For each vertex, determine the corresposing class by comparing indegree & outdegree numbers"
   ]
  },
  {
   "cell_type": "code",
   "execution_count": 18,
   "metadata": {},
   "outputs": [],
   "source": [
    "import itertools\n",
    "import operator\n",
    "for x in itertools.combinations(range(v_num), 3): # for all combinations\n",
    "\tpruned_vs = g.vs.select(x[0], x[1], x[2])\n",
    "\tsub_g = g.subgraph(pruned_vs) # build a subgraph with 3 vertices\n",
    "\tdegree_num = sub_g.indegree()\n",
    "\tdegree_num.extend(sub_g.outdegree()) # store its indegree and outdegree in order\n",
    "\n",
    "\tif sub_g.is_connected(mode='WEAK'): # ignore not-connected three-vertex motifs\n",
    "\t\tif all(v == 0 for v in map(operator.sub, degree_num, class2)): # compare its degrees with each motif's degrees\n",
    "\t\t\tclass_dic['class2'] += 1\n",
    "\t\telif all(v == 0 for v in map(operator.sub, degree_num, class4)):\n",
    "\t\t\tclass_dic['class4'] += 1\n",
    "\t\telif all(v == 0 for v in map(operator.sub, degree_num, class6)):\n",
    "\t\t\tclass_dic['class6'] += 1\n",
    "\t\telif all(v == 0 for v in map(operator.sub, degree_num, class7)):\n",
    "\t\t\tclass_dic['class7'] += 1\n",
    "\t\telif all(v == 0 for v in map(operator.sub, degree_num, class11)):\n",
    "\t\t\tclass_dic['class11'] += 1"
   ]
  },
  {
   "cell_type": "markdown",
   "metadata": {},
   "source": [
    "Print out the counts of each of the five connected isomorphism classes from my function and compare to the results from motifs_randesu function"
   ]
  },
  {
   "cell_type": "code",
   "execution_count": 19,
   "metadata": {
    "scrolled": false
   },
   "outputs": [
    {
     "name": "stdout",
     "output_type": "stream",
     "text": [
      "\n",
      "Result from my function:\n",
      "[('class2', 120), ('class4', 22), ('class6', 3), ('class7', 15)]\n",
      "\n",
      "Result from motif_num function:\n",
      "[nan, nan, 120, nan, 22, 0, 3, 15, 0, 0, 0, 0, 0, 0, 0, 0]\n"
     ]
    }
   ],
   "source": [
    "print \"\\nResult from my function:\\n\", [(key, value) for (key, value) in sorted(class_dic.items())]\n",
    "motif_num = g.motifs_randesu(size=3)\n",
    "print \"\\nResult from motif_num function:\\n\", motif_num"
   ]
  }
 ],
 "metadata": {
  "kernelspec": {
   "display_name": "Python 2",
   "language": "python",
   "name": "python2"
  },
  "language_info": {
   "codemirror_mode": {
    "name": "ipython",
    "version": 2
   },
   "file_extension": ".py",
   "mimetype": "text/x-python",
   "name": "python",
   "nbconvert_exporter": "python",
   "pygments_lexer": "ipython2",
   "version": "2.7.12"
  }
 },
 "nbformat": 4,
 "nbformat_minor": 1
}
